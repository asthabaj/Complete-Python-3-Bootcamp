{
  "nbformat": 4,
  "nbformat_minor": 0,
  "metadata": {
    "colab": {
      "provenance": [],
      "gpuType": "T4",
      "include_colab_link": true
    },
    "kernelspec": {
      "name": "python3",
      "display_name": "Python 3"
    },
    "language_info": {
      "name": "python"
    },
    "accelerator": "GPU"
  },
  "cells": [
    {
      "cell_type": "markdown",
      "metadata": {
        "id": "view-in-github",
        "colab_type": "text"
      },
      "source": [
        "<a href=\"https://colab.research.google.com/github/asthabaj/Complete-Python-3-Bootcamp/blob/master/imgclass.ipynb\" target=\"_parent\"><img src=\"https://colab.research.google.com/assets/colab-badge.svg\" alt=\"Open In Colab\"/></a>"
      ]
    },
    {
      "cell_type": "code",
      "execution_count": 38,
      "metadata": {
        "id": "GhXMhKzDmhBn"
      },
      "outputs": [],
      "source": [
        "import torch\n",
        "import torchvision\n",
        "import torch.nn as nn\n",
        "import torch.optim as optim\n",
        "from torchvision import transforms as transform\n",
        "from google.colab import files\n",
        "from torchvision import datasets, transforms\n",
        "from torch.utils.data import DataLoader, ConcatDataset, TensorDataset\n",
        "from sklearn.metrics import (\n",
        "    accuracy_score,\n",
        "    precision_score,\n",
        "    recall_score,\n",
        "    f1_score,\n",
        "    confusion_matrix,\n",
        "    roc_auc_score,\n",
        "    roc_curve\n",
        ")\n",
        "import seaborn as sns\n",
        "from PIL import Image"
      ]
    },
    {
      "cell_type": "code",
      "source": [
        "from torchvision.utils import save_image"
      ],
      "metadata": {
        "id": "GaBkaB6DnBSB"
      },
      "execution_count": 2,
      "outputs": []
    },
    {
      "cell_type": "code",
      "source": [
        "print(\"GPU Available:\", torch.cuda.is_available())\n",
        "device = torch.device(\"cuda\" if torch.cuda.is_available() else \"cpu\")"
      ],
      "metadata": {
        "colab": {
          "base_uri": "https://localhost:8080/"
        },
        "id": "jHSpVq1WzQ75",
        "outputId": "4c480cad-bf16-48b1-effb-c5a6fc2a0e46"
      },
      "execution_count": 3,
      "outputs": [
        {
          "output_type": "stream",
          "name": "stdout",
          "text": [
            "GPU Available: True\n"
          ]
        }
      ]
    },
    {
      "cell_type": "code",
      "source": [
        "#dataset=torchvision.datasets.CIFAR10(root='/content/drive/MyDrive', train=True, download=True, transform=transform)"
      ],
      "metadata": {
        "id": "LjwiJsrznEtP"
      },
      "execution_count": 4,
      "outputs": []
    },
    {
      "cell_type": "code",
      "source": [
        "#data augmentation par\n",
        "transform = transforms.Compose([\n",
        "    transforms.RandomCrop(32, padding=4),       #4 padding crop\n",
        "    transforms.RandomHorizontalFlip(p=0.5),               #rotatie omg\n",
        "    transforms.ColorJitter(brightness=0.2, contrast=0.2, saturation=0.2, hue=0.1),  # adjust colors\n",
        "    transforms.ToTensor(),\n",
        "    transforms.Normalize((0.5, 0.5, 0.5), (0.5, 0.5, 0.5))\n",
        "])\n"
      ],
      "metadata": {
        "id": "V7W1gSpKniZh"
      },
      "execution_count": 8,
      "outputs": []
    },
    {
      "cell_type": "code",
      "source": [
        "# Load the dataset without downloading\n",
        "train_data = torchvision.datasets.CIFAR10(root='/content/drive/MyDrive', train=True, download=True, transform=transform)\n",
        "test_data = torchvision.datasets.CIFAR10(root='/content/drive/MyDrive', train=False, download=True, transform=transform)"
      ],
      "metadata": {
        "id": "fDHv1a1GpPX4",
        "colab": {
          "base_uri": "https://localhost:8080/"
        },
        "outputId": "8e6cae27-a7fd-4aff-e5ac-26e8750ca1f1"
      },
      "execution_count": 9,
      "outputs": [
        {
          "output_type": "stream",
          "name": "stdout",
          "text": [
            "Files already downloaded and verified\n",
            "Files already downloaded and verified\n"
          ]
        }
      ]
    },
    {
      "cell_type": "code",
      "source": [
        "train_loader = torch.utils.data.DataLoader(train_data, batch_size=64, shuffle=True)\n",
        "test_loader = torch.utils.data.DataLoader(test_data, batch_size=32, shuffle=False)"
      ],
      "metadata": {
        "id": "c8vY7gSKqAoo"
      },
      "execution_count": 10,
      "outputs": []
    },
    {
      "cell_type": "code",
      "source": [
        "#print(f\"Number of training images: {len(train_dataset)}\")\n"
      ],
      "metadata": {
        "id": "eBAi6NqX82sV"
      },
      "execution_count": 11,
      "outputs": []
    },
    {
      "cell_type": "code",
      "source": [
        "#model validation-one training data\n",
        "oneimg, onelabel = train_data[0]\n",
        "oneimg = oneimg.unsqueeze(0).to(device)\n",
        "onelabel = torch.tensor([onelabel]).to(device)"
      ],
      "metadata": {
        "id": "gWC6FU4v-M2n"
      },
      "execution_count": 12,
      "outputs": []
    },
    {
      "cell_type": "code",
      "source": [
        "oneimgdataset = TensorDataset(oneimg, onelabel)\n",
        "oneimgloader = DataLoader(oneimgdataset, batch_size=1)"
      ],
      "metadata": {
        "id": "IIddy9xQ-NEX"
      },
      "execution_count": null,
      "outputs": []
    },
    {
      "cell_type": "code",
      "source": [
        "import matplotlib.pyplot as plt\n",
        "import numpy as np"
      ],
      "metadata": {
        "id": "WpwAf2oq8-c8"
      },
      "execution_count": 34,
      "outputs": []
    },
    {
      "cell_type": "markdown",
      "source": [],
      "metadata": {
        "id": "N2ZX1nf6UETw"
      }
    },
    {
      "cell_type": "code",
      "source": [
        "# # Helper function to denormalize and display images\n",
        "# def imshow(img):\n",
        "#     img = img / 2 + 0.5  # Denormalize\n",
        "#     np_img = img.numpy()\n",
        "#     plt.imshow(np.transpose(np_img, (1, 2, 0)))\n",
        "#     plt.show()\n",
        "\n"
      ],
      "metadata": {
        "id": "JUE6xFoy9BVH"
      },
      "execution_count": null,
      "outputs": []
    },
    {
      "cell_type": "code",
      "source": [
        "# # Get a batch of training data\n",
        "# data_iter = iter(train_loader)\n",
        "# images, labels = next(data_iter)"
      ],
      "metadata": {
        "id": "_EtjSCKu9VR5"
      },
      "execution_count": null,
      "outputs": []
    },
    {
      "cell_type": "code",
      "source": [
        "# Show images\n",
        "# imshow(torchvision.utils.make_grid(images[:20]))  # Display first 20 images"
      ],
      "metadata": {
        "id": "wLk2hlMT9Xjm"
      },
      "execution_count": null,
      "outputs": []
    },
    {
      "cell_type": "code",
      "source": [
        "num_classes = 10\n",
        "class neunet(nn.Module):\n",
        "    def __init__(self, num_classes=10):\n",
        "        super(neunet, self).__init__()\n",
        "\n",
        "        # U-Net Encoder (Downsampling path)\n",
        "        self.enc1 = self.conv_block(3, 64)\n",
        "        self.enc2 = self.conv_block(64, 128)\n",
        "        self.enc3 = self.conv_block(128, 256)\n",
        "        self.pool = nn.MaxPool2d(kernel_size=2, stride=2)\n",
        "        #conv_block is helper method that applies two convolution layers with relu activation.\n",
        "\n",
        "        self.bottleneck = self.conv_block(256, 512)\n",
        "        #bootleneck most compressed version of img, high lvl abst features(global)\n",
        "        # can help extract high-level features but decoder classiciton ma chaidaina\n",
        "        self.fc = nn.Sequential(\n",
        "            nn.AdaptiveAvgPool2d(1),\n",
        "            nn.Flatten(),\n",
        "            nn.Linear(512, num_classes) #512featre from bottlenck bacj to 10 classes\n",
        "        )\n",
        "\n",
        "    def conv_block(self, in_channels, out_channels):\n",
        "        return nn.Sequential(\n",
        "            nn.Conv2d(in_channels, out_channels, kernel_size=3, padding=1),\n",
        "            nn.ReLU(inplace=True),\n",
        "            nn.Conv2d(out_channels, out_channels, kernel_size=3, padding=1),\n",
        "            nn.ReLU(inplace=True)\n",
        "        )\n",
        "\n",
        "    def forward(self, x):\n",
        "        x = self.pool(self.enc1(x))\n",
        "        x = self.pool(self.enc2(x))\n",
        "        x = self.pool(self.enc3(x))\n",
        "        x = self.bottleneck(x)\n",
        "        x = self.fc(x)  # convert to class predictions 10 ma eyta\n",
        "        return x"
      ],
      "metadata": {
        "id": "qum6PvB39aAf"
      },
      "execution_count": 43,
      "outputs": []
    },
    {
      "cell_type": "code",
      "source": [
        "\n",
        "model = neunet(num_classes=num_classes).to(device)\n",
        "criterion = nn.CrossEntropyLoss()\n",
        "optimizer = optim.Adam(model.parameters(), lr=0.0001)\n"
      ],
      "metadata": {
        "id": "1QCeolc4vY1Z"
      },
      "execution_count": 44,
      "outputs": []
    },
    {
      "cell_type": "code",
      "source": [
        "for epoch in range(50):\n",
        "    model.train()\n",
        "    print(f'Training epoch {epoch}..')\n",
        "    running_loss = 0.0\n",
        "    for inputs, labels in train_loader:\n",
        "        inputs, labels = inputs.to(device), labels.to(device)\n",
        "        optimizer.zero_grad()\n",
        "        outputs = model(inputs) #fwd pass\n",
        "        loss = criterion(outputs, labels)\n",
        "        loss.backward() #back propagation\n",
        "        optimizer.step() #model eight update\n",
        "        running_loss += loss.item()\n",
        "\n",
        "    avg_loss = running_loss / len(train_loader)\n",
        "    print(f\"Loss: {avg_loss:.4f}\")"
      ],
      "metadata": {
        "colab": {
          "base_uri": "https://localhost:8080/"
        },
        "id": "Jzzeu3mgyzHu",
        "outputId": "32a6342b-f2a4-46d0-9f24-0c59e9587172"
      },
      "execution_count": 15,
      "outputs": [
        {
          "output_type": "stream",
          "name": "stdout",
          "text": [
            "Training epoch 0..\n",
            "Loss: 1.8927\n",
            "Training epoch 1..\n",
            "Loss: 1.5820\n",
            "Training epoch 2..\n",
            "Loss: 1.4216\n",
            "Training epoch 3..\n",
            "Loss: 1.2673\n",
            "Training epoch 4..\n",
            "Loss: 1.1567\n",
            "Training epoch 5..\n",
            "Loss: 1.0670\n",
            "Training epoch 6..\n",
            "Loss: 0.9901\n",
            "Training epoch 7..\n",
            "Loss: 0.9338\n",
            "Training epoch 8..\n",
            "Loss: 0.8709\n",
            "Training epoch 9..\n",
            "Loss: 0.8304\n",
            "Training epoch 10..\n",
            "Loss: 0.7761\n",
            "Training epoch 11..\n",
            "Loss: 0.7375\n",
            "Training epoch 12..\n",
            "Loss: 0.6949\n",
            "Training epoch 13..\n",
            "Loss: 0.6580\n",
            "Training epoch 14..\n",
            "Loss: 0.6244\n",
            "Training epoch 15..\n",
            "Loss: 0.6014\n",
            "Training epoch 16..\n",
            "Loss: 0.5685\n",
            "Training epoch 17..\n",
            "Loss: 0.5422\n",
            "Training epoch 18..\n",
            "Loss: 0.5209\n",
            "Training epoch 19..\n",
            "Loss: 0.4998\n",
            "Training epoch 20..\n",
            "Loss: 0.4810\n",
            "Training epoch 21..\n",
            "Loss: 0.4622\n",
            "Training epoch 22..\n",
            "Loss: 0.4408\n",
            "Training epoch 23..\n",
            "Loss: 0.4287\n",
            "Training epoch 24..\n",
            "Loss: 0.4120\n",
            "Training epoch 25..\n",
            "Loss: 0.3940\n",
            "Training epoch 26..\n",
            "Loss: 0.3817\n",
            "Training epoch 27..\n",
            "Loss: 0.3658\n",
            "Training epoch 28..\n",
            "Loss: 0.3503\n",
            "Training epoch 29..\n",
            "Loss: 0.3391\n",
            "Training epoch 30..\n",
            "Loss: 0.3292\n",
            "Training epoch 31..\n",
            "Loss: 0.3167\n",
            "Training epoch 32..\n",
            "Loss: 0.2998\n",
            "Training epoch 33..\n",
            "Loss: 0.2891\n",
            "Training epoch 34..\n",
            "Loss: 0.2757\n",
            "Training epoch 35..\n",
            "Loss: 0.2703\n",
            "Training epoch 36..\n",
            "Loss: 0.2560\n",
            "Training epoch 37..\n",
            "Loss: 0.2449\n",
            "Training epoch 38..\n",
            "Loss: 0.2382\n",
            "Training epoch 39..\n",
            "Loss: 0.2283\n",
            "Training epoch 40..\n",
            "Loss: 0.2168\n",
            "Training epoch 41..\n",
            "Loss: 0.2080\n",
            "Training epoch 42..\n",
            "Loss: 0.2006\n",
            "Training epoch 43..\n",
            "Loss: 0.1973\n",
            "Training epoch 44..\n",
            "Loss: 0.1845\n",
            "Training epoch 45..\n",
            "Loss: 0.1769\n",
            "Training epoch 46..\n",
            "Loss: 0.1720\n",
            "Training epoch 47..\n",
            "Loss: 0.1666\n",
            "Training epoch 48..\n",
            "Loss: 0.1553\n",
            "Training epoch 49..\n",
            "Loss: 0.1520\n"
          ]
        }
      ]
    },
    {
      "cell_type": "code",
      "source": [
        "model = neunet(num_classes=num num_classes).to(device)\n",
        "criterion = nn.CrossEntropyLoss()\n",
        "optimizer = optim.Adam(model.parameters(), lr=0.001)\n",
        "\n",
        "for epoch in range(100):\n",
        "    model.train()\n",
        "    for inputs, labels in oneimgloader:\n",
        "        optimizer.zero_grad()\n",
        "        outputs = model(inputs)\n",
        "        loss = criterion(outputs, labels)\n",
        "        loss.backward()\n",
        "        optimizer.step()\n",
        "\n",
        "    print(f\"Epoch [{epoch+1}/100], Loss: {loss.item():.4f}\")\n"
      ],
      "metadata": {
        "colab": {
          "base_uri": "https://localhost:8080/"
        },
        "id": "4J3Aa-uzOqx5",
        "outputId": "e5e51618-12e5-4b83-937e-680f10603169"
      },
      "execution_count": null,
      "outputs": [
        {
          "output_type": "stream",
          "name": "stdout",
          "text": [
            "Epoch [1/100], Loss: 2.2973\n",
            "Epoch [2/100], Loss: 2.0870\n",
            "Epoch [3/100], Loss: 0.2311\n",
            "Epoch [4/100], Loss: 0.0000\n",
            "Epoch [5/100], Loss: 0.0000\n",
            "Epoch [6/100], Loss: 0.0000\n",
            "Epoch [7/100], Loss: 0.0000\n",
            "Epoch [8/100], Loss: 0.0000\n",
            "Epoch [9/100], Loss: 0.0000\n",
            "Epoch [10/100], Loss: 0.0000\n",
            "Epoch [11/100], Loss: 0.0000\n",
            "Epoch [12/100], Loss: 0.0000\n",
            "Epoch [13/100], Loss: 0.0000\n",
            "Epoch [14/100], Loss: 0.0000\n",
            "Epoch [15/100], Loss: 0.0000\n",
            "Epoch [16/100], Loss: 0.0000\n",
            "Epoch [17/100], Loss: 0.0000\n",
            "Epoch [18/100], Loss: 0.0000\n",
            "Epoch [19/100], Loss: 0.0000\n",
            "Epoch [20/100], Loss: 0.0000\n",
            "Epoch [21/100], Loss: 0.0000\n",
            "Epoch [22/100], Loss: 0.0000\n",
            "Epoch [23/100], Loss: 0.0000\n",
            "Epoch [24/100], Loss: 0.0000\n",
            "Epoch [25/100], Loss: 0.0000\n",
            "Epoch [26/100], Loss: 0.0000\n",
            "Epoch [27/100], Loss: 0.0000\n",
            "Epoch [28/100], Loss: 0.0000\n",
            "Epoch [29/100], Loss: 0.0000\n",
            "Epoch [30/100], Loss: 0.0000\n",
            "Epoch [31/100], Loss: 0.0000\n",
            "Epoch [32/100], Loss: 0.0000\n",
            "Epoch [33/100], Loss: 0.0000\n",
            "Epoch [34/100], Loss: 0.0000\n",
            "Epoch [35/100], Loss: 0.0000\n",
            "Epoch [36/100], Loss: 0.0000\n",
            "Epoch [37/100], Loss: 0.0000\n",
            "Epoch [38/100], Loss: 0.0000\n",
            "Epoch [39/100], Loss: 0.0000\n",
            "Epoch [40/100], Loss: 0.0000\n",
            "Epoch [41/100], Loss: 0.0000\n",
            "Epoch [42/100], Loss: 0.0000\n",
            "Epoch [43/100], Loss: 0.0000\n",
            "Epoch [44/100], Loss: 0.0000\n",
            "Epoch [45/100], Loss: 0.0000\n",
            "Epoch [46/100], Loss: 0.0000\n",
            "Epoch [47/100], Loss: 0.0000\n",
            "Epoch [48/100], Loss: 0.0000\n",
            "Epoch [49/100], Loss: 0.0000\n",
            "Epoch [50/100], Loss: 0.0000\n",
            "Epoch [51/100], Loss: 0.0000\n",
            "Epoch [52/100], Loss: 0.0000\n",
            "Epoch [53/100], Loss: 0.0000\n",
            "Epoch [54/100], Loss: 0.0000\n",
            "Epoch [55/100], Loss: 0.0000\n",
            "Epoch [56/100], Loss: 0.0000\n",
            "Epoch [57/100], Loss: 0.0000\n",
            "Epoch [58/100], Loss: 0.0000\n",
            "Epoch [59/100], Loss: 0.0000\n",
            "Epoch [60/100], Loss: 0.0000\n",
            "Epoch [61/100], Loss: 0.0000\n",
            "Epoch [62/100], Loss: 0.0000\n",
            "Epoch [63/100], Loss: 0.0000\n",
            "Epoch [64/100], Loss: 0.0000\n",
            "Epoch [65/100], Loss: 0.0000\n",
            "Epoch [66/100], Loss: 0.0000\n",
            "Epoch [67/100], Loss: 0.0000\n",
            "Epoch [68/100], Loss: 0.0000\n",
            "Epoch [69/100], Loss: 0.0000\n",
            "Epoch [70/100], Loss: 0.0000\n",
            "Epoch [71/100], Loss: 0.0000\n",
            "Epoch [72/100], Loss: 0.0000\n",
            "Epoch [73/100], Loss: 0.0000\n",
            "Epoch [74/100], Loss: 0.0000\n",
            "Epoch [75/100], Loss: 0.0000\n",
            "Epoch [76/100], Loss: 0.0000\n",
            "Epoch [77/100], Loss: 0.0000\n",
            "Epoch [78/100], Loss: 0.0000\n",
            "Epoch [79/100], Loss: 0.0000\n",
            "Epoch [80/100], Loss: 0.0000\n",
            "Epoch [81/100], Loss: 0.0000\n",
            "Epoch [82/100], Loss: 0.0000\n",
            "Epoch [83/100], Loss: 0.0000\n",
            "Epoch [84/100], Loss: 0.0000\n",
            "Epoch [85/100], Loss: 0.0000\n",
            "Epoch [86/100], Loss: 0.0000\n",
            "Epoch [87/100], Loss: 0.0000\n",
            "Epoch [88/100], Loss: 0.0000\n",
            "Epoch [89/100], Loss: 0.0000\n",
            "Epoch [90/100], Loss: 0.0000\n",
            "Epoch [91/100], Loss: 0.0000\n",
            "Epoch [92/100], Loss: 0.0000\n",
            "Epoch [93/100], Loss: 0.0000\n",
            "Epoch [94/100], Loss: 0.0000\n",
            "Epoch [95/100], Loss: 0.0000\n",
            "Epoch [96/100], Loss: 0.0000\n",
            "Epoch [97/100], Loss: 0.0000\n",
            "Epoch [98/100], Loss: 0.0000\n",
            "Epoch [99/100], Loss: 0.0000\n",
            "Epoch [100/100], Loss: 0.0000\n"
          ]
        }
      ]
    },
    {
      "cell_type": "code",
      "source": [
        "output = model(oneimg)\n",
        "print(\"Model Output:\", output)\n",
        "print(\"Predicted Class:\", torch.argmax(output, dim=1).item())\n",
        "print(\"Actual Class:\", onelabel.item())"
      ],
      "metadata": {
        "colab": {
          "base_uri": "https://localhost:8080/"
        },
        "id": "5jc3YJNvPqSR",
        "outputId": "f36931ba-33a9-4438-a47c-35730e0520b4"
      },
      "execution_count": null,
      "outputs": [
        {
          "output_type": "stream",
          "name": "stdout",
          "text": [
            "Model Output: tensor([[ -82949.9688, -140283.2656, -139385.3906, -140976.5312, -123156.8438,\n",
            "         -122970.8203,  339203.1875, -150162.3125, -131995.7500, -159763.3906]],\n",
            "       device='cuda:0', grad_fn=<AddmmBackward0>)\n",
            "Predicted Class: 6\n",
            "Actual Class: 6\n"
          ]
        }
      ]
    },
    {
      "cell_type": "code",
      "source": [
        "print(\"Single Label:\", one)\n",
        "print(\"Model Output Shape:\", output.shape)  # Should match (batch_size, num_classes)\n"
      ],
      "metadata": {
        "id": "jomB9X_QQ1yG"
      },
      "execution_count": null,
      "outputs": []
    },
    {
      "cell_type": "code",
      "source": [
        "model.eval()\n",
        "all_preds = []\n",
        "all_labels = []\n",
        "with torch.no_grad():\n",
        "    for inputs, labels in test_loader:\n",
        "        inputs, labels = inputs.to(device), labels.to(device)\n",
        "        outputs = model(inputs)\n",
        "        _, predicted = torch.max(outputs, 1)\n",
        "        all_preds.extend(predicted.cpu().numpy())\n",
        "        all_labels.extend(labels.cpu().numpy())\n",
        "all_preds = np.array(all_preds)\n",
        "all_labels = np.array(all_labels)\n",
        "\n",
        "accuracy = accuracy_score(all_labels, all_preds)\n",
        "precision = precision_score(all_labels, all_preds, average='weighted')\n",
        "recall = recall_score(all_labels, all_preds, average='weighted')\n",
        "f1 = f1_score(all_labels, all_preds, average='weighted')\n",
        "\n",
        "conf_matrix = confusion_matrix(all_labels, all_preds)\n",
        "roc_auc = roc_auc_score(all_labels, torch.nn.functional.one_hot(torch.tensor(all_preds), num_classes=10),multi_class='ovr')\n",
        "#multiclass lai onevsrest approach\n",
        "\n",
        "print(f\"Accuracy: {accuracy:.4f}\")\n",
        "print(f\"Precision: {precision:.4f}\")\n",
        "print(f\"Recall: {recall:.4f}\")\n",
        "print(f\"F1-Score: {f1:.4f}\")\n",
        "print(f\"ROC-AUC: {roc_auc:.4f}\")\n",
        "\n",
        "plt.figure(figsize=(8, 6))\n",
        "sns.heatmap(conf_matrix, annot=True, fmt=\"d\", cmap=\"Blues\", xticklabels=train_data.classes, yticklabels=train_data.classes)\n",
        "plt.title(\"Confusion Matrix\")\n",
        "plt.xlabel(\"Predicted Label\")\n",
        "plt.ylabel(\"True Label\")\n",
        "plt.show()"
      ],
      "metadata": {
        "colab": {
          "base_uri": "https://localhost:8080/",
          "height": 644
        },
        "id": "FDD2GGEJvdMf",
        "outputId": "1641467c-d35d-49ec-aed8-ff2fa84ee43e"
      },
      "execution_count": 35,
      "outputs": [
        {
          "output_type": "stream",
          "name": "stdout",
          "text": [
            "Accuracy: 0.8843\n",
            "Precision: 0.8868\n",
            "Recall: 0.8843\n",
            "F1-Score: 0.8850\n",
            "ROC-AUC: 0.9357\n"
          ]
        },
        {
          "output_type": "display_data",
          "data": {
            "text/plain": [
              "<Figure size 800x600 with 2 Axes>"
            ],
            "image/png": "[encoded data removed]"
          },
          "metadata": {}
        }
      ]
    },
    {
      "cell_type": "code",
      "source": [
        "model.eval()  # Switch to evaluation mode\n",
        "with torch.no_grad():  # Disable gradient calculations\n",
        "    val_image, val_label = test_data[0]  # Use a test image for validation\n",
        "    val_image = val_image.unsqueeze(0).to(device)\n",
        "    val_label = torch.tensor([val_label], device=device)\n",
        "\n",
        "    output = model(val_image)\n",
        "    _, predicted = torch.max(output, 1)  # Get the class with highest probability\n",
        "    print(f\"Predicted: {predicted.item()}, Actual: {val_label.item()}\")\n"
      ],
      "metadata": {
        "colab": {
          "base_uri": "https://localhost:8080/"
        },
        "id": "hMVO6frdPHdt",
        "outputId": "08083938-fa24-4d61-e757-555245240ea8"
      },
      "execution_count": null,
      "outputs": [
        {
          "output_type": "stream",
          "name": "stdout",
          "text": [
            "Predicted: 6, Actual: 3\n"
          ]
        }
      ]
    },
    {
      "cell_type": "code",
      "source": [
        "torch.save(model.state_dict(), '/content/model_checkpoint.pth')\n",
        "torch.save(optimizer.state_dict(), '/content/optimizer_checkpoint.pth')\n",
        "torch.save({'epoch': epoch, 'loss': avg_loss}, '/content/epoch_checkpoint.pth')\n",
        "\n"
      ],
      "metadata": {
        "id": "sHj5PMQrwrna"
      },
      "execution_count": 22,
      "outputs": []
    },
    {
      "cell_type": "code",
      "source": [
        "\n",
        "# Load the model and optimizer states\n",
        "model.load_state_dict(torch.load('/content/drive/MyDrive/model_checkpoint.pth'))\n",
        "optimizer.load_state_dict(torch.load('/content/drive/MyDrive/optimizer_checkpoint.pth'))\n",
        "\n",
        "# Load the epoch and loss state\n",
        "checkpoint = torch.load('/content/drive/MyDrive/epoch_checkpoint.pth')\n",
        "start_epoch = checkpoint['epoch'] + 1  # Resume from next epoch\n",
        "\n",
        "print(f\"Resuming training from epoch {start_epoch}...\")"
      ],
      "metadata": {
        "colab": {
          "base_uri": "https://localhost:8080/"
        },
        "id": "3ueSKHGY_IM5",
        "outputId": "13c5cbf0-6911-46a5-c2c5-0677223c0288"
      },
      "execution_count": 30,
      "outputs": [
        {
          "output_type": "stream",
          "name": "stdout",
          "text": [
            "Resuming training from epoch 52...\n"
          ]
        },
        {
          "output_type": "stream",
          "name": "stderr",
          "text": [
            "<ipython-input-30-3cdf4ebfd5f0>:2: FutureWarning: You are using `torch.load` with `weights_only=False` (the current default value), which uses the default pickle module implicitly. It is possible to construct malicious pickle data which will execute arbitrary code during unpickling (See https://github.com/pytorch/pytorch/blob/main/SECURITY.md#untrusted-models for more details). In a future release, the default value for `weights_only` will be flipped to `True`. This limits the functions that could be executed during unpickling. Arbitrary objects will no longer be allowed to be loaded via this mode unless they are explicitly allowlisted by the user via `torch.serialization.add_safe_globals`. We recommend you start setting `weights_only=True` for any use case where you don't have full control of the loaded file. Please open an issue on GitHub for any issues related to this experimental feature.\n",
            "  model.load_state_dict(torch.load('/content/drive/MyDrive/model_checkpoint.pth'))\n",
            "<ipython-input-30-3cdf4ebfd5f0>:3: FutureWarning: You are using `torch.load` with `weights_only=False` (the current default value), which uses the default pickle module implicitly. It is possible to construct malicious pickle data which will execute arbitrary code during unpickling (See https://github.com/pytorch/pytorch/blob/main/SECURITY.md#untrusted-models for more details). In a future release, the default value for `weights_only` will be flipped to `True`. This limits the functions that could be executed during unpickling. Arbitrary objects will no longer be allowed to be loaded via this mode unless they are explicitly allowlisted by the user via `torch.serialization.add_safe_globals`. We recommend you start setting `weights_only=True` for any use case where you don't have full control of the loaded file. Please open an issue on GitHub for any issues related to this experimental feature.\n",
            "  optimizer.load_state_dict(torch.load('/content/drive/MyDrive/optimizer_checkpoint.pth'))\n",
            "<ipython-input-30-3cdf4ebfd5f0>:6: FutureWarning: You are using `torch.load` with `weights_only=False` (the current default value), which uses the default pickle module implicitly. It is possible to construct malicious pickle data which will execute arbitrary code during unpickling (See https://github.com/pytorch/pytorch/blob/main/SECURITY.md#untrusted-models for more details). In a future release, the default value for `weights_only` will be flipped to `True`. This limits the functions that could be executed during unpickling. Arbitrary objects will no longer be allowed to be loaded via this mode unless they are explicitly allowlisted by the user via `torch.serialization.add_safe_globals`. We recommend you start setting `weights_only=True` for any use case where you don't have full control of the loaded file. Please open an issue on GitHub for any issues related to this experimental feature.\n",
            "  checkpoint = torch.load('/content/drive/MyDrive/epoch_checkpoint.pth')\n"
          ]
        }
      ]
    },
    {
      "cell_type": "code",
      "source": [
        "for epoch in range(start_epoch, start_epoch + 50):\n",
        "    model.train()\n",
        "    print(f'Training epoch {epoch}..')\n",
        "    running_loss = 0.0\n",
        "    for inputs, labels in train_loader:\n",
        "        inputs, labels = inputs.to(device), labels.to(device)\n",
        "        optimizer.zero_grad()\n",
        "        outputs = model(inputs)  # Forward pass\n",
        "        loss = criterion(outputs, labels)\n",
        "        loss.backward()  # Backpropagation\n",
        "        optimizer.step()  # Update weights\n",
        "        running_loss += loss.item()\n",
        "\n",
        "    avg_loss = running_loss / len(train_loader)\n",
        "    print(f\"Loss: {avg_loss:.4f}\")\n",
        "\n",
        "    # Save the model state after each epoch\n",
        "    torch.save(model.state_dict(), '/content/drive/MyDrive/model_checkpoint.pth')\n",
        "    torch.save(optimizer.state_dict(), '/content/drive/MyDrive/optimizer_checkpoint.pth')\n",
        "    torch.save({'epoch': epoch, 'loss': avg_loss}, '/content/drive/MyDrive/epoch_checkpoint.pth')"
      ],
      "metadata": {
        "colab": {
          "base_uri": "https://localhost:8080/"
        },
        "id": "3POk3PVv_aJf",
        "outputId": "84b212d2-357d-4905-c417-643c32bbf9bc"
      },
      "execution_count": 31,
      "outputs": [
        {
          "output_type": "stream",
          "name": "stdout",
          "text": [
            "Training epoch 52..\n",
            "Loss: 0.0729\n",
            "Training epoch 53..\n",
            "Loss: 0.0724\n",
            "Training epoch 54..\n",
            "Loss: 0.0734\n",
            "Training epoch 55..\n",
            "Loss: 0.0684\n",
            "Training epoch 56..\n",
            "Loss: 0.0716\n",
            "Training epoch 57..\n",
            "Loss: 0.0668\n",
            "Training epoch 58..\n",
            "Loss: 0.0640\n",
            "Training epoch 59..\n",
            "Loss: 0.0625\n",
            "Training epoch 60..\n",
            "Loss: 0.0641\n",
            "Training epoch 61..\n",
            "Loss: 0.0575\n",
            "Training epoch 62..\n",
            "Loss: 0.0634\n",
            "Training epoch 63..\n",
            "Loss: 0.0606\n",
            "Training epoch 64..\n",
            "Loss: 0.0566\n",
            "Training epoch 65..\n",
            "Loss: 0.0555\n",
            "Training epoch 66..\n",
            "Loss: 0.0565\n",
            "Training epoch 67..\n",
            "Loss: 0.0550\n",
            "Training epoch 68..\n",
            "Loss: 0.0521\n",
            "Training epoch 69..\n",
            "Loss: 0.0536\n",
            "Training epoch 70..\n",
            "Loss: 0.0507\n",
            "Training epoch 71..\n",
            "Loss: 0.0518\n",
            "Training epoch 72..\n",
            "Loss: 0.0480\n",
            "Training epoch 73..\n",
            "Loss: 0.0473\n",
            "Training epoch 74..\n",
            "Loss: 0.0497\n",
            "Training epoch 75..\n",
            "Loss: 0.0456\n",
            "Training epoch 76..\n",
            "Loss: 0.0470\n",
            "Training epoch 77..\n",
            "Loss: 0.0447\n",
            "Training epoch 78..\n",
            "Loss: 0.0469\n",
            "Training epoch 79..\n",
            "Loss: 0.0445\n",
            "Training epoch 80..\n",
            "Loss: 0.0441\n",
            "Training epoch 81..\n",
            "Loss: 0.0404\n",
            "Training epoch 82..\n",
            "Loss: 0.0483\n",
            "Training epoch 83..\n",
            "Loss: 0.0397\n",
            "Training epoch 84..\n",
            "Loss: 0.0432\n",
            "Training epoch 85..\n",
            "Loss: 0.0398\n",
            "Training epoch 86..\n",
            "Loss: 0.0402\n",
            "Training epoch 87..\n",
            "Loss: 0.0409\n",
            "Training epoch 88..\n",
            "Loss: 0.0404\n",
            "Training epoch 89..\n",
            "Loss: 0.0408\n",
            "Training epoch 90..\n",
            "Loss: 0.0397\n",
            "Training epoch 91..\n",
            "Loss: 0.0380\n",
            "Training epoch 92..\n",
            "Loss: 0.0370\n",
            "Training epoch 93..\n",
            "Loss: 0.0388\n",
            "Training epoch 94..\n",
            "Loss: 0.0348\n",
            "Training epoch 95..\n",
            "Loss: 0.0362\n",
            "Training epoch 96..\n",
            "Loss: 0.0376\n",
            "Training epoch 97..\n",
            "Loss: 0.0343\n",
            "Training epoch 98..\n",
            "Loss: 0.0336\n",
            "Training epoch 99..\n",
            "Loss: 0.0336\n",
            "Training epoch 100..\n",
            "Loss: 0.0362\n",
            "Training epoch 101..\n",
            "Loss: 0.0347\n"
          ]
        }
      ]
    },
    {
      "cell_type": "code",
      "source": [
        "# Save the model state after each epoch\n",
        "torch.save(model.state_dict(), '/content/drive/MyDrive/model_checkpoint.pth')\n",
        "torch.save(optimizer.state_dict(), '/content/drive/MyDrive/optimizer_checkpoint.pth')\n",
        "torch.save({'epoch': epoch, 'loss': avg_loss}, '/content/drive/MyDrive/epoch_checkpoint.pth')"
      ],
      "metadata": {
        "id": "Le-gF_5d_hnY"
      },
      "execution_count": 32,
      "outputs": []
    },
    {
      "cell_type": "code",
      "source": [
        "cifar10_classes = [\n",
        "    \"Airplane\", \"Automobile\", \"Bird\", \"Cat\", \"Deer\",\n",
        "    \"Dog\", \"Frog\", \"Horse\", \"Ship\", \"Truck\"\n",
        "]"
      ],
      "metadata": {
        "id": "May_ufEZX2s5"
      },
      "execution_count": 51,
      "outputs": []
    },
    {
      "cell_type": "code",
      "source": [
        "#testing\n",
        "new_transform = transforms.Compose([\n",
        "  transforms.Resize((32,32)), #resize to 32 pixels\n",
        "  transforms.ToTensor(),\n",
        "  transforms.Normalize((0.5,0.5,0.5), (0.5,0.5,0.5))\n",
        "])\n",
        "\n",
        "def load_image(image_path):\n",
        "  image = Image.open(image_path)\n",
        "  image = new_transform(image)\n",
        "  image = image.unsqueeze(0) #add batch dimension to be compatible\n",
        "  return image.to(device)\n",
        "\n",
        "\n",
        "print(\"Please upload the images you want to classify:\")\n",
        "uploaded_images = files.upload()\n",
        "image_paths = list(uploaded_images.keys())\n",
        "\n",
        "model.eval()\n",
        "\n",
        "with torch.no_grad():\n",
        "    for path in image_paths:\n",
        "        image = load_image(path)  # Preprocess the image\n",
        "        output = model(image)  # Forward pass through the model\n",
        "        _, predicted = torch.max(output, 1)  # Get the class with the highest probability\n",
        "\n",
        "        class_index = predicted.item()  # Convert prediction to scalar index\n",
        "        class_name = cifar10_classes[class_index]  # Map index to class name\n",
        "\n",
        "        print(f\"The image '{path}' is classified as: {class_name}\")"
      ],
      "metadata": {
        "colab": {
          "base_uri": "https://localhost:8080/",
          "height": 108
        },
        "id": "of4czZNUFsEj",
        "outputId": "4c87a1b0-b3f8-4d4e-e577-8bbf79c1c14c"
      },
      "execution_count": 52,
      "outputs": [
        {
          "output_type": "stream",
          "name": "stdout",
          "text": [
            "Please upload the images you want to classify:\n"
          ]
        },
        {
          "output_type": "display_data",
          "data": {
            "text/plain": [
              "<IPython.core.display.HTML object>"
            ],
            "text/html": [
              "\n",
              "     <input type=\"file\" id=\"files-697b85e0-c37f-4177-a7f4-045d8c76c828\" name=\"files[]\" multiple disabled\n",
              "        style=\"border:none\" />\n",
              "     <output id=\"result-697b85e0-c37f-4177-a7f4-045d8c76c828\">\n",
              "      Upload widget is only available when the cell has been executed in the\n",
              "      current browser session. Please rerun this cell to enable.\n",
              "      </output>\n",
              "      <script>// Copyright 2017 Google LLC\n",
              "//\n",
              "// Licensed under the Apache License, Version 2.0 (the \"License\");\n",
              "// you may not use this file except in compliance with the License.\n",
              "// You may obtain a copy of the License at\n",
              "//\n",
              "//      http://www.apache.org/licenses/LICENSE-2.0\n",
              "//\n",
              "// Unless required by applicable law or agreed to in writing, software\n",
              "// distributed under the License is distributed on an \"AS IS\" BASIS,\n",
              "// WITHOUT WARRANTIES OR CONDITIONS OF ANY KIND, either express or implied.\n",
              "// See the License for the specific language governing permissions and\n",
              "// limitations under the License.\n",
              "\n",
              "/**\n",
              " * @fileoverview Helpers for google.colab Python module.\n",
              " */\n",
              "(function(scope) {\n",
              "function span(text, styleAttributes = {}) {\n",
              "  const element = document.createElement('span');\n",
              "  element.textContent = text;\n",
              "  for (const key of Object.keys(styleAttributes)) {\n",
              "    element.style[key] = styleAttributes[key];\n",
              "  }\n",
              "  return element;\n",
              "}\n",
              "\n",
              "// Max number of bytes which will be uploaded at a time.\n",
              "const MAX_PAYLOAD_SIZE = 100 * 1024;\n",
              "\n",
              "function _uploadFiles(inputId, outputId) {\n",
              "  const steps = uploadFilesStep(inputId, outputId);\n",
              "  const outputElement = document.getElementById(outputId);\n",
              "  // Cache steps on the outputElement to make it available for the next call\n",
              "  // to uploadFilesContinue from Python.\n",
              "  outputElement.steps = steps;\n",
              "\n",
              "  return _uploadFilesContinue(outputId);\n",
              "}\n",
              "\n",
              "// This is roughly an async generator (not supported in the browser yet),\n",
              "// where there are multiple asynchronous steps and the Python side is going\n",
              "// to poll for completion of each step.\n",
              "// This uses a Promise to block the python side on completion of each step,\n",
              "// then passes the result of the previous step as the input to the next step.\n",
              "function _uploadFilesContinue(outputId) {\n",
              "  const outputElement = document.getElementById(outputId);\n",
              "  const steps = outputElement.steps;\n",
              "\n",
              "  const next = steps.next(outputElement.lastPromiseValue);\n",
              "  return Promise.resolve(next.value.promise).then((value) => {\n",
              "    // Cache the last promise value to make it available to the next\n",
              "    // step of the generator.\n",
              "    outputElement.lastPromiseValue = value;\n",
              "    return next.value.response;\n",
              "  });\n",
              "}\n",
              "\n",
              "/**\n",
              " * Generator function which is called between each async step of the upload\n",
              " * process.\n",
              " * @param {string} inputId Element ID of the input file picker element.\n",
              " * @param {string} outputId Element ID of the output display.\n",
              " * @return {!Iterable<!Object>} Iterable of next steps.\n",
              " */\n",
              "function* uploadFilesStep(inputId, outputId) {\n",
              "  const inputElement = document.getElementById(inputId);\n",
              "  inputElement.disabled = false;\n",
              "\n",
              "  const outputElement = document.getElementById(outputId);\n",
              "  outputElement.innerHTML = '';\n",
              "\n",
              "  const pickedPromise = new Promise((resolve) => {\n",
              "    inputElement.addEventListener('change', (e) => {\n",
              "      resolve(e.target.files);\n",
              "    });\n",
              "  });\n",
              "\n",
              "  const cancel = document.createElement('button');\n",
              "  inputElement.parentElement.appendChild(cancel);\n",
              "  cancel.textContent = 'Cancel upload';\n",
              "  const cancelPromise = new Promise((resolve) => {\n",
              "    cancel.onclick = () => {\n",
              "      resolve(null);\n",
              "    };\n",
              "  });\n",
              "\n",
              "  // Wait for the user to pick the files.\n",
              "  const files = yield {\n",
              "    promise: Promise.race([pickedPromise, cancelPromise]),\n",
              "    response: {\n",
              "      action: 'starting',\n",
              "    }\n",
              "  };\n",
              "\n",
              "  cancel.remove();\n",
              "\n",
              "  // Disable the input element since further picks are not allowed.\n",
              "  inputElement.disabled = true;\n",
              "\n",
              "  if (!files) {\n",
              "    return {\n",
              "      response: {\n",
              "        action: 'complete',\n",
              "      }\n",
              "    };\n",
              "  }\n",
              "\n",
              "  for (const file of files) {\n",
              "    const li = document.createElement('li');\n",
              "    li.append(span(file.name, {fontWeight: 'bold'}));\n",
              "    li.append(span(\n",
              "        `(${file.type || 'n/a'}) - ${file.size} bytes, ` +\n",
              "        `last modified: ${\n",
              "            file.lastModifiedDate ? file.lastModifiedDate.toLocaleDateString() :\n",
              "                                    'n/a'} - `));\n",
              "    const percent = span('0% done');\n",
              "    li.appendChild(percent);\n",
              "\n",
              "    outputElement.appendChild(li);\n",
              "\n",
              "    const fileDataPromise = new Promise((resolve) => {\n",
              "      const reader = new FileReader();\n",
              "      reader.onload = (e) => {\n",
              "        resolve(e.target.result);\n",
              "      };\n",
              "      reader.readAsArrayBuffer(file);\n",
              "    });\n",
              "    // Wait for the data to be ready.\n",
              "    let fileData = yield {\n",
              "      promise: fileDataPromise,\n",
              "      response: {\n",
              "        action: 'continue',\n",
              "      }\n",
              "    };\n",
              "\n",
              "    // Use a chunked sending to avoid message size limits. See b/62115660.\n",
              "    let position = 0;\n",
              "    do {\n",
              "      const length = Math.min(fileData.byteLength - position, MAX_PAYLOAD_SIZE);\n",
              "      const chunk = new Uint8Array(fileData, position, length);\n",
              "      position += length;\n",
              "\n",
              "      const base64 = btoa(String.fromCharCode.apply(null, chunk));\n",
              "      yield {\n",
              "        response: {\n",
              "          action: 'append',\n",
              "          file: file.name,\n",
              "          data: base64,\n",
              "        },\n",
              "      };\n",
              "\n",
              "      let percentDone = fileData.byteLength === 0 ?\n",
              "          100 :\n",
              "          Math.round((position / fileData.byteLength) * 100);\n",
              "      percent.textContent = `${percentDone}% done`;\n",
              "\n",
              "    } while (position < fileData.byteLength);\n",
              "  }\n",
              "\n",
              "  // All done.\n",
              "  yield {\n",
              "    response: {\n",
              "      action: 'complete',\n",
              "    }\n",
              "  };\n",
              "}\n",
              "\n",
              "scope.google = scope.google || {};\n",
              "scope.google.colab = scope.google.colab || {};\n",
              "scope.google.colab._files = {\n",
              "  _uploadFiles,\n",
              "  _uploadFilesContinue,\n",
              "};\n",
              "})(self);\n",
              "</script> "
            ]
          },
          "metadata": {}
        },
        {
          "output_type": "stream",
          "name": "stdout",
          "text": [
            "Saving puff.jpg to puff (8).jpg\n",
            "The image 'puff (8).jpg' is classified as: Dog\n"
          ]
        }
      ]
    },
    {
      "cell_type": "code",
      "source": [],
      "metadata": {
        "id": "VJxTyLwsUr6m"
      },
      "execution_count": null,
      "outputs": []
    }
  ]
}